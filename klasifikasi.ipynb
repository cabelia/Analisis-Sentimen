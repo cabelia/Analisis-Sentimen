{
 "cells": [
  {
   "cell_type": "code",
   "execution_count": 1,
   "id": "eaddcdca-df68-4401-a518-ccacaec72d59",
   "metadata": {},
   "outputs": [],
   "source": [
    "from sklearn.feature_extraction.text import TfidfVectorizer\n",
    "from sklearn.naive_bayes import GaussianNB\n",
    "from sklearn.model_selection import train_test_split\n",
    "from sklearn.metrics import classification_report, confusion_matrix, accuracy_score, ConfusionMatrixDisplay\n",
    "\n",
    "from mlxtend.plotting import plot_confusion_matrix\n",
    "import scikitplot as skplt\n",
    "import seaborn as sns\n",
    "import matplotlib.pyplot as plt \n",
    "import pandas as pd\n",
    "import warnings\n",
    "warnings.filterwarnings('ignore')"
   ]
  },
  {
   "cell_type": "code",
   "execution_count": 2,
   "id": "51d52294-bb8d-4a41-839d-9405df9caf1f",
   "metadata": {},
   "outputs": [
    {
     "data": {
      "text/html": [
       "<div>\n",
       "<style scoped>\n",
       "    .dataframe tbody tr th:only-of-type {\n",
       "        vertical-align: middle;\n",
       "    }\n",
       "\n",
       "    .dataframe tbody tr th {\n",
       "        vertical-align: top;\n",
       "    }\n",
       "\n",
       "    .dataframe thead th {\n",
       "        text-align: right;\n",
       "    }\n",
       "</style>\n",
       "<table border=\"1\" class=\"dataframe\">\n",
       "  <thead>\n",
       "    <tr style=\"text-align: right;\">\n",
       "      <th></th>\n",
       "      <th>Stemmed Text</th>\n",
       "      <th>Label</th>\n",
       "    </tr>\n",
       "  </thead>\n",
       "  <tbody>\n",
       "    <tr>\n",
       "      <th>0</th>\n",
       "      <td>mohon maaf tidak cantum masalah tuju lapor dug...</td>\n",
       "      <td>0 - Netral</td>\n",
       "    </tr>\n",
       "    <tr>\n",
       "      <th>1</th>\n",
       "      <td>tindaklanjuti tulis aksi ubah komplain jam dir...</td>\n",
       "      <td>2 - Negatif</td>\n",
       "    </tr>\n",
       "    <tr>\n",
       "      <th>2</th>\n",
       "      <td>admin listrik rumah coba hubung pln dekat tida...</td>\n",
       "      <td>0 - Netral</td>\n",
       "    </tr>\n",
       "    <tr>\n",
       "      <th>3</th>\n",
       "      <td>halo admin cek dm</td>\n",
       "      <td>0 - Netral</td>\n",
       "    </tr>\n",
       "    <tr>\n",
       "      <th>4</th>\n",
       "      <td>mudah mudah jam depan tidak madam</td>\n",
       "      <td>0 - Netral</td>\n",
       "    </tr>\n",
       "    <tr>\n",
       "      <th>...</th>\n",
       "      <td>...</td>\n",
       "      <td>...</td>\n",
       "    </tr>\n",
       "    <tr>\n",
       "      <th>151</th>\n",
       "      <td>daerah balekambang kramat jati jakarta timur p...</td>\n",
       "      <td>0 - Netral</td>\n",
       "    </tr>\n",
       "    <tr>\n",
       "      <th>152</th>\n",
       "      <td>va masuk r daya va alami naik tidak</td>\n",
       "      <td>0 - Netral</td>\n",
       "    </tr>\n",
       "    <tr>\n",
       "      <th>153</th>\n",
       "      <td>assalamualaikum listrik nyala daerah balekamba...</td>\n",
       "      <td>2 - Negatif</td>\n",
       "    </tr>\n",
       "    <tr>\n",
       "      <th>154</th>\n",
       "      <td>listrik area salam magelang mati an pagi siang...</td>\n",
       "      <td>2 - Negatif</td>\n",
       "    </tr>\n",
       "    <tr>\n",
       "      <th>155</th>\n",
       "      <td>kakak daerah malang singosari mati lampu jam</td>\n",
       "      <td>0 - Netral</td>\n",
       "    </tr>\n",
       "  </tbody>\n",
       "</table>\n",
       "<p>153 rows × 2 columns</p>\n",
       "</div>"
      ],
      "text/plain": [
       "                                          Stemmed Text        Label\n",
       "0    mohon maaf tidak cantum masalah tuju lapor dug...   0 - Netral\n",
       "1    tindaklanjuti tulis aksi ubah komplain jam dir...  2 - Negatif\n",
       "2    admin listrik rumah coba hubung pln dekat tida...   0 - Netral\n",
       "3                                    halo admin cek dm   0 - Netral\n",
       "4                    mudah mudah jam depan tidak madam   0 - Netral\n",
       "..                                                 ...          ...\n",
       "151  daerah balekambang kramat jati jakarta timur p...   0 - Netral\n",
       "152                va masuk r daya va alami naik tidak   0 - Netral\n",
       "153  assalamualaikum listrik nyala daerah balekamba...  2 - Negatif\n",
       "154  listrik area salam magelang mati an pagi siang...  2 - Negatif\n",
       "155       kakak daerah malang singosari mati lampu jam   0 - Netral\n",
       "\n",
       "[153 rows x 2 columns]"
      ]
     },
     "execution_count": 2,
     "metadata": {},
     "output_type": "execute_result"
    }
   ],
   "source": [
    "data = pd.read_excel(\"preprocessing-final.xlsx\")\n",
    "df = pd.DataFrame(data)\n",
    "df.drop(df.columns[[0, 1, 2, 3, 4, 6]], axis=1, inplace=True)\n",
    "df = df.dropna()\n",
    "df['Label'].mask(df['Label'] == 0, \"0 - Netral\", inplace=True)\n",
    "df['Label'].mask(df['Label'] == 1, \"1 - Positif\", inplace=True)\n",
    "df['Label'].mask(df['Label'] == 2, \"2 - Negatif\", inplace=True)\n",
    "df"
   ]
  },
  {
   "cell_type": "code",
   "execution_count": 3,
   "id": "7e36ee86-1500-4b70-b69d-3ab0e9ce174a",
   "metadata": {},
   "outputs": [],
   "source": [
    "vectorizer = TfidfVectorizer()\n",
    "model_g = GaussianNB()"
   ]
  },
  {
   "cell_type": "code",
   "execution_count": 12,
   "id": "0db5d0ae-049a-48ec-8bf7-79d73d2ca08f",
   "metadata": {},
   "outputs": [
    {
     "name": "stdout",
     "output_type": "stream",
     "text": [
      "  (0, 273)\t0.2262615336328142\n",
      "  (0, 476)\t0.2262615336328142\n",
      "  (0, 419)\t0.1503968242347636\n",
      "  (0, 122)\t0.2262615336328142\n",
      "  (0, 199)\t0.2262615336328142\n",
      "  (0, 322)\t0.2262615336328142\n",
      "  (0, 265)\t0.17321842143958738\n",
      "  (0, 346)\t0.17974530003543218\n",
      "  (0, 502)\t0.17321842143958738\n",
      "  (0, 194)\t0.16257754223871876\n",
      "  (0, 77)\t0.20909377583610078\n",
      "  (0, 79)\t0.1503968242347636\n",
      "  (0, 417)\t0.17321842143958738\n",
      "  (0, 37)\t0.20909377583610078\n",
      "  (0, 407)\t0.20909377583610078\n",
      "  (0, 368)\t0.20909377583610078\n",
      "  (0, 195)\t0.17321842143958738\n",
      "  (0, 283)\t0.08086342310566343\n",
      "  (0, 93)\t0.2262615336328142\n",
      "  (0, 129)\t0.20909377583610078\n",
      "  (0, 275)\t0.15811648312911994\n",
      "  (0, 519)\t0.2262615336328142\n",
      "  (0, 315)\t0.2262615336328142\n",
      "  (0, 80)\t0.2262615336328142\n",
      "  (0, 499)\t0.10756473069245631\n",
      "  :\t:\n",
      "  (150, 227)\t0.14842339025250262\n",
      "  (150, 492)\t0.14842339025250262\n",
      "  (150, 502)\t0.19297339575823727\n",
      "  (150, 194)\t0.18111896032244865\n",
      "  (150, 283)\t0.09008562264711138\n",
      "  (150, 332)\t0.15111953758917837\n",
      "  (151, 20)\t0.3638706633420465\n",
      "  (151, 296)\t0.3638706633420465\n",
      "  (151, 424)\t0.3638706633420465\n",
      "  (151, 205)\t0.3362617131272772\n",
      "  (151, 443)\t0.3014785494642244\n",
      "  (151, 28)\t0.3014785494642244\n",
      "  (151, 352)\t0.2364158168446589\n",
      "  (151, 58)\t0.2542807373297162\n",
      "  (151, 365)\t0.31667285120753824\n",
      "  (151, 317)\t0.15036843596125912\n",
      "  (151, 283)\t0.13004343660693302\n",
      "  (151, 332)\t0.218149172188438\n",
      "  (152, 447)\t0.5066325692345519\n",
      "  (152, 304)\t0.5066325692345519\n",
      "  (152, 94)\t0.3291717765746417\n",
      "  (152, 268)\t0.3291717765746417\n",
      "  (152, 218)\t0.38786130582456274\n",
      "  (152, 317)\t0.2093643558486647\n",
      "  (152, 196)\t0.2750798730171314\n"
     ]
    }
   ],
   "source": [
    "vectorizer = TfidfVectorizer()\n",
    "vectors = vectorizer.fit_transform(df[\"Stemmed Text\"].values.astype('U'))\n",
    "\n",
    "print(vectors)\n"
   ]
  },
  {
   "cell_type": "code",
   "execution_count": 128,
   "id": "600a7ccd-0695-4e9c-b371-8252ffe21969",
   "metadata": {},
   "outputs": [],
   "source": [
    "X_train, X_test, y_train, y_test = train_test_split(dense, df[\"Label\"], test_size=0.3)\n"
   ]
  },
  {
   "cell_type": "code",
   "execution_count": 129,
   "id": "9aba3560-7f78-45f4-a152-7a231024e471",
   "metadata": {},
   "outputs": [
    {
     "name": "stdout",
     "output_type": "stream",
     "text": [
      "Data Training :  (107,)\n",
      "Data Testing :  (46,)\n"
     ]
    }
   ],
   "source": [
    "print(\"Data Training : \", y_train.shape)\n",
    "print(\"Data Testing : \", y_test.shape)"
   ]
  },
  {
   "cell_type": "code",
   "execution_count": 130,
   "id": "9ae7ac7f-06c4-4ba0-9bf7-184650e435c4",
   "metadata": {},
   "outputs": [
    {
     "data": {
      "text/html": [
       "<style>#sk-container-id-27 {color: black;background-color: white;}#sk-container-id-27 pre{padding: 0;}#sk-container-id-27 div.sk-toggleable {background-color: white;}#sk-container-id-27 label.sk-toggleable__label {cursor: pointer;display: block;width: 100%;margin-bottom: 0;padding: 0.3em;box-sizing: border-box;text-align: center;}#sk-container-id-27 label.sk-toggleable__label-arrow:before {content: \"▸\";float: left;margin-right: 0.25em;color: #696969;}#sk-container-id-27 label.sk-toggleable__label-arrow:hover:before {color: black;}#sk-container-id-27 div.sk-estimator:hover label.sk-toggleable__label-arrow:before {color: black;}#sk-container-id-27 div.sk-toggleable__content {max-height: 0;max-width: 0;overflow: hidden;text-align: left;background-color: #f0f8ff;}#sk-container-id-27 div.sk-toggleable__content pre {margin: 0.2em;color: black;border-radius: 0.25em;background-color: #f0f8ff;}#sk-container-id-27 input.sk-toggleable__control:checked~div.sk-toggleable__content {max-height: 200px;max-width: 100%;overflow: auto;}#sk-container-id-27 input.sk-toggleable__control:checked~label.sk-toggleable__label-arrow:before {content: \"▾\";}#sk-container-id-27 div.sk-estimator input.sk-toggleable__control:checked~label.sk-toggleable__label {background-color: #d4ebff;}#sk-container-id-27 div.sk-label input.sk-toggleable__control:checked~label.sk-toggleable__label {background-color: #d4ebff;}#sk-container-id-27 input.sk-hidden--visually {border: 0;clip: rect(1px 1px 1px 1px);clip: rect(1px, 1px, 1px, 1px);height: 1px;margin: -1px;overflow: hidden;padding: 0;position: absolute;width: 1px;}#sk-container-id-27 div.sk-estimator {font-family: monospace;background-color: #f0f8ff;border: 1px dotted black;border-radius: 0.25em;box-sizing: border-box;margin-bottom: 0.5em;}#sk-container-id-27 div.sk-estimator:hover {background-color: #d4ebff;}#sk-container-id-27 div.sk-parallel-item::after {content: \"\";width: 100%;border-bottom: 1px solid gray;flex-grow: 1;}#sk-container-id-27 div.sk-label:hover label.sk-toggleable__label {background-color: #d4ebff;}#sk-container-id-27 div.sk-serial::before {content: \"\";position: absolute;border-left: 1px solid gray;box-sizing: border-box;top: 0;bottom: 0;left: 50%;z-index: 0;}#sk-container-id-27 div.sk-serial {display: flex;flex-direction: column;align-items: center;background-color: white;padding-right: 0.2em;padding-left: 0.2em;position: relative;}#sk-container-id-27 div.sk-item {position: relative;z-index: 1;}#sk-container-id-27 div.sk-parallel {display: flex;align-items: stretch;justify-content: center;background-color: white;position: relative;}#sk-container-id-27 div.sk-item::before, #sk-container-id-27 div.sk-parallel-item::before {content: \"\";position: absolute;border-left: 1px solid gray;box-sizing: border-box;top: 0;bottom: 0;left: 50%;z-index: -1;}#sk-container-id-27 div.sk-parallel-item {display: flex;flex-direction: column;z-index: 1;position: relative;background-color: white;}#sk-container-id-27 div.sk-parallel-item:first-child::after {align-self: flex-end;width: 50%;}#sk-container-id-27 div.sk-parallel-item:last-child::after {align-self: flex-start;width: 50%;}#sk-container-id-27 div.sk-parallel-item:only-child::after {width: 0;}#sk-container-id-27 div.sk-dashed-wrapped {border: 1px dashed gray;margin: 0 0.4em 0.5em 0.4em;box-sizing: border-box;padding-bottom: 0.4em;background-color: white;}#sk-container-id-27 div.sk-label label {font-family: monospace;font-weight: bold;display: inline-block;line-height: 1.2em;}#sk-container-id-27 div.sk-label-container {text-align: center;}#sk-container-id-27 div.sk-container {/* jupyter's `normalize.less` sets `[hidden] { display: none; }` but bootstrap.min.css set `[hidden] { display: none !important; }` so we also need the `!important` here to be able to override the default hidden behavior on the sphinx rendered scikit-learn.org. See: https://github.com/scikit-learn/scikit-learn/issues/21755 */display: inline-block !important;position: relative;}#sk-container-id-27 div.sk-text-repr-fallback {display: none;}</style><div id=\"sk-container-id-27\" class=\"sk-top-container\"><div class=\"sk-text-repr-fallback\"><pre>GaussianNB()</pre><b>In a Jupyter environment, please rerun this cell to show the HTML representation or trust the notebook. <br />On GitHub, the HTML representation is unable to render, please try loading this page with nbviewer.org.</b></div><div class=\"sk-container\" hidden><div class=\"sk-item\"><div class=\"sk-estimator sk-toggleable\"><input class=\"sk-toggleable__control sk-hidden--visually\" id=\"sk-estimator-id-27\" type=\"checkbox\" checked><label for=\"sk-estimator-id-27\" class=\"sk-toggleable__label sk-toggleable__label-arrow\">GaussianNB</label><div class=\"sk-toggleable__content\"><pre>GaussianNB()</pre></div></div></div></div></div>"
      ],
      "text/plain": [
       "GaussianNB()"
      ]
     },
     "execution_count": 130,
     "metadata": {},
     "output_type": "execute_result"
    }
   ],
   "source": [
    "model_g.fit(X_train,y_train)"
   ]
  },
  {
   "cell_type": "code",
   "execution_count": 131,
   "id": "39a93168-b818-4df9-a447-d85097b9bdde",
   "metadata": {},
   "outputs": [
    {
     "name": "stdout",
     "output_type": "stream",
     "text": [
      "[[25  0  1]\n",
      " [ 1  1  0]\n",
      " [ 9  2  7]]\n",
      "              precision    recall  f1-score   support\n",
      "\n",
      "  0 - Netral       0.71      0.96      0.82        26\n",
      " 1 - Positif       0.33      0.50      0.40         2\n",
      " 2 - Negatif       0.88      0.39      0.54        18\n",
      "\n",
      "    accuracy                           0.72        46\n",
      "   macro avg       0.64      0.62      0.59        46\n",
      "weighted avg       0.76      0.72      0.69        46\n",
      "\n",
      "nilai akurasinya adalah  0.717391304347826\n"
     ]
    },
    {
     "data": {
      "image/png": "[encoded data removed]",
      "text/plain": [
       "<Figure size 432x288 with 1 Axes>"
      ]
     },
     "metadata": {
      "needs_background": "light"
     },
     "output_type": "display_data"
    }
   ],
   "source": [
    "expected = y_test\n",
    "predicted = model_g.predict(X_test)\n",
    "\n",
    "print(confusion_matrix(expected, predicted))\n",
    "plot_confusion_matrix(confusion_matrix(expected, predicted))\n",
    "print(classification_report(expected,predicted))\n",
    "print('nilai akurasinya adalah ', accuracy_score(expected, predicted))"
   ]
  },
  {
   "cell_type": "code",
   "execution_count": 91,
   "id": "daac45c7-8dc8-4139-8cd7-292e56c3fc85",
   "metadata": {},
   "outputs": [
    {
     "name": "stdout",
     "output_type": "stream",
     "text": [
      "['0 - Netral']\n"
     ]
    }
   ],
   "source": [
    "tweet = '@pln_123 halo pln kenapa ini mati listrik, lokasi setro baru utara tambaksari surabaya?'\n",
    "v_data = vectorizer.transform([tweet]).toarray()\n",
    "y_preds = model_g.predict(v_data)\n",
    "\n",
    "print(y_preds)"
   ]
  },
  {
   "cell_type": "code",
   "execution_count": null,
   "id": "85aa04fd-a685-4cdd-8b73-458a2e57984f",
   "metadata": {},
   "outputs": [],
   "source": []
  }
 ],
 "metadata": {
  "kernelspec": {
   "display_name": "Python 3 (ipykernel)",
   "language": "python",
   "name": "python3"
  },
  "language_info": {
   "codemirror_mode": {
    "name": "ipython",
    "version": 3
   },
   "file_extension": ".py",
   "mimetype": "text/x-python",
   "name": "python",
   "nbconvert_exporter": "python",
   "pygments_lexer": "ipython3",
   "version": "3.9.7"
  }
 },
 "nbformat": 4,
 "nbformat_minor": 5
}
